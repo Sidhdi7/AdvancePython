{
 "cells": [
  {
   "cell_type": "markdown",
   "id": "8c62c01a",
   "metadata": {},
   "source": [
    "## Sidhdi Vijay K 22MIC0168 Lab-14"
   ]
  },
  {
   "cell_type": "markdown",
   "id": "e1db0c0c",
   "metadata": {},
   "source": [
    "## 1. Handling CSV Files (built-in `csv` module)\n",
    "\n",
    "### Writing a CSV file using `csv.writer()`"
   ]
  },
  {
   "cell_type": "code",
   "execution_count": 1,
   "id": "43e9dc32",
   "metadata": {},
   "outputs": [
    {
     "name": "stdout",
     "output_type": "stream",
     "text": [
      "students.csv created in current working directory\n"
     ]
    }
   ],
   "source": [
    "import csv\n",
    "\n",
    "# Sample data\n",
    "students = [\n",
    "    [\"Name\", \"Age\", \"Parents Income\"],\n",
    "    [\"Arun\", 21, \"5L\"],\n",
    "    [\"Priya\", 22, \"9.2L\"],\n",
    "    [\"Kiran\", 20, \"7.5L\"]\n",
    "]\n",
    "\n",
    "# Write CSV file\n",
    "with open(\"students.csv\", \"w\", newline=\"\") as file:\n",
    "    writer = csv.writer(file)\n",
    "    writer.writerows(students)\n",
    "\n",
    "print(\"students.csv created in current working directory\")"
   ]
  },
  {
   "cell_type": "markdown",
   "id": "04f820ab",
   "metadata": {},
   "source": [
    "### Reading the CSV file using `csv.reader()`"
   ]
  },
  {
   "cell_type": "code",
   "execution_count": 2,
   "id": "108a4f67",
   "metadata": {},
   "outputs": [
    {
     "name": "stdout",
     "output_type": "stream",
     "text": [
      "['Name', 'Age', 'Parents Income']\n",
      "['Arun', '21', '5L']\n",
      "['Priya', '22', '9.2L']\n",
      "['Kiran', '20', '7.5L']\n"
     ]
    }
   ],
   "source": [
    "import csv\n",
    "\n",
    "with open('students.csv', newline='') as f:\n",
    "    reader = csv.reader(f, delimiter=',')\n",
    "    for row in reader:\n",
    "        print(row)"
   ]
  },
  {
   "cell_type": "markdown",
   "id": "3295925e",
   "metadata": {},
   "source": [
    "### Appending a row to the CSV file"
   ]
  },
  {
   "cell_type": "code",
   "execution_count": 3,
   "id": "939f4dc1",
   "metadata": {},
   "outputs": [
    {
     "name": "stdout",
     "output_type": "stream",
     "text": [
      "Appended a row to students.csv\n"
     ]
    }
   ],
   "source": [
    "from csv import writer\n",
    "\n",
    "new_row = [\"William\", 28, \"UAE\"]\n",
    "with open('students.csv', 'a', newline='') as f:\n",
    "    w = writer(f)\n",
    "    w.writerow(new_row)\n",
    "\n",
    "print('Appended a row to students.csv')"
   ]
  },
  {
   "cell_type": "markdown",
   "id": "7b0fc465",
   "metadata": {},
   "source": [
    "## 2. Handling CSV with Pandas\n",
    "\n",
    "Pandas simplifies I/O and data manipulation. Below: create, read, append using pandas."
   ]
  },
  {
   "cell_type": "code",
   "execution_count": 4,
   "id": "86dd8f33",
   "metadata": {},
   "outputs": [
    {
     "name": "stdout",
     "output_type": "stream",
     "text": [
      "students_pandas.csv created\n",
      "\n",
      "Reading students_pandas.csv:\n",
      "    Name  Age  Marks\n",
      "0   Arun   21     85\n",
      "1  Priya   22     90\n",
      "2  Kiran   20     78\n",
      "\n",
      "Appended new row and saved students_pandas.csv\n",
      "      Name  Age  Marks\n",
      "0     Arun   21     85\n",
      "1    Priya   22     90\n",
      "2    Kiran   20     78\n",
      "3  William   28     92\n"
     ]
    }
   ],
   "source": [
    "import pandas as pd\n",
    "\n",
    "# Create DataFrame and write to CSV\n",
    "data = {\n",
    "    'Name': ['Arun', 'Priya', 'Kiran'],\n",
    "    'Age': [21, 22, 20],\n",
    "    'Marks': [85, 90, 78]\n",
    "}\n",
    "\n",
    "df = pd.DataFrame(data)\n",
    "df.to_csv('students_pandas.csv', index=False)\n",
    "print('students_pandas.csv created')\n",
    "\n",
    "# Read it back\n",
    "print('\\nReading students_pandas.csv:')\n",
    "print(pd.read_csv('students_pandas.csv'))\n",
    "\n",
    "# Append a new row (concat) and save\n",
    "new_row = {'Name':'William','Age':28,'Marks':92}\n",
    "df_updated = pd.concat([pd.read_csv('students_pandas.csv'), pd.DataFrame([new_row])], ignore_index=True)\n",
    "df_updated.to_csv('students_pandas.csv', index=False)\n",
    "print('\\nAppended new row and saved students_pandas.csv')\n",
    "print(pd.read_csv('students_pandas.csv'))"
   ]
  },
  {
   "cell_type": "markdown",
   "id": "99eadd1c",
   "metadata": {},
   "source": [
    "## 3. Handling JSON Files\n",
    "\n",
    "Using Python's built-in `json` module and Pandas for JSON I/O."
   ]
  },
  {
   "cell_type": "code",
   "execution_count": 5,
   "id": "f105b2d0",
   "metadata": {},
   "outputs": [
    {
     "name": "stdout",
     "output_type": "stream",
     "text": [
      "employees.json written\n",
      "\n",
      "Loaded JSON:\n",
      "{'emp1': {'name': 'Lisa', 'designation': 'Programmer', 'age': 34, 'salary': 54000}, 'emp2': {'name': 'Elis', 'designation': 'Trainee', 'age': 24, 'salary': 40000}}\n"
     ]
    }
   ],
   "source": [
    "import json\n",
    "\n",
    "employees = {\n",
    "    'emp1': {'name':'Lisa','designation':'Programmer','age':34,'salary':54000},\n",
    "    'emp2': {'name':'Elis','designation':'Trainee','age':24,'salary':40000}\n",
    "}\n",
    "\n",
    "with open('employees.json', 'w') as f:\n",
    "    json.dump(employees, f, indent=4)\n",
    "\n",
    "print('employees.json written')\n",
    "\n",
    "# Read it back\n",
    "with open('employees.json','r') as f:\n",
    "    data = json.load(f)\n",
    "print('\\nLoaded JSON:')\n",
    "print(data)"
   ]
  },
  {
   "cell_type": "markdown",
   "id": "de2af7fb",
   "metadata": {},
   "source": [
    "### JSON with Pandas"
   ]
  },
  {
   "cell_type": "code",
   "execution_count": 6,
   "id": "7b8cd991",
   "metadata": {},
   "outputs": [
    {
     "name": "stdout",
     "output_type": "stream",
     "text": [
      "people.json created\n",
      "\n",
      "Read back with pandas:\n",
      "   id     name  age         city\n",
      "0   1    Alice   25     New York\n",
      "1   2      Bob   30  Los Angeles\n",
      "2   3  Charlie   35      Chicago\n"
     ]
    }
   ],
   "source": [
    "import pandas as pd\n",
    "\n",
    "people = [\n",
    "    {'id':1,'name':'Alice','age':25,'city':'New York'},\n",
    "    {'id':2,'name':'Bob','age':30,'city':'Los Angeles'},\n",
    "    {'id':3,'name':'Charlie','age':35,'city':'Chicago'}\n",
    "]\n",
    "\n",
    "df_people = pd.DataFrame(people)\n",
    "df_people.to_json('people.json', orient='records', indent=4)\n",
    "print('people.json created')\n",
    "\n",
    "print('\\nRead back with pandas:')\n",
    "print(pd.read_json('people.json'))"
   ]
  },
  {
   "cell_type": "markdown",
   "id": "7226e643",
   "metadata": {},
   "source": [
    "## 4. Handling Excel Files\n",
    "\n",
    "Demonstration using `openpyxl` (for direct Excel operations) and Pandas (convenient)."
   ]
  },
  {
   "cell_type": "code",
   "execution_count": 7,
   "id": "7d395666",
   "metadata": {},
   "outputs": [
    {
     "name": "stdout",
     "output_type": "stream",
     "text": [
      "openpyxl not installed; installing now...\n",
      "sample_openpyxl.xlsx created\n"
     ]
    }
   ],
   "source": [
    "try:\n",
    "    import openpyxl\n",
    "except Exception as e:\n",
    "    print('openpyxl not installed; installing now...')\n",
    "    !pip install openpyxl --quiet\n",
    "    import openpyxl\n",
    "\n",
    "from openpyxl import Workbook\n",
    "wb = Workbook()\n",
    "ws = wb.active\n",
    "ws.title = 'SampleData'\n",
    "ws['A1'] = 'Name'\n",
    "ws['B1'] = 'Age'\n",
    "ws.append(['Arun', 21])\n",
    "ws.append(['Priya', 22])\n",
    "wb.save('sample_openpyxl.xlsx')\n",
    "print('sample_openpyxl.xlsx created')"
   ]
  },
  {
   "cell_type": "markdown",
   "id": "9a7d111c",
   "metadata": {},
   "source": [
    "### Excel with Pandas"
   ]
  },
  {
   "cell_type": "code",
   "execution_count": 8,
   "id": "c07433a9",
   "metadata": {},
   "outputs": [
    {
     "name": "stdout",
     "output_type": "stream",
     "text": [
      "sample_pandas.xlsx written\n",
      "\n",
      "Read it back:\n",
      "    Name  Age\n",
      "0   Arun   21\n",
      "1  Priya   22\n",
      "2  Kiran   20\n"
     ]
    }
   ],
   "source": [
    "import pandas as pd\n",
    "\n",
    "df = pd.DataFrame({'Name':['Arun','Priya','Kiran'],'Age':[21,22,20]})\n",
    "df.to_excel('sample_pandas.xlsx', sheet_name='Sheet1', index=False)\n",
    "print('sample_pandas.xlsx written')\n",
    "\n",
    "print('\\nRead it back:')\n",
    "print(pd.read_excel('sample_pandas.xlsx', sheet_name='Sheet1'))"
   ]
  },
  {
   "cell_type": "markdown",
   "id": "e9e437ae",
   "metadata": {},
   "source": [
    "## 5. NumPy Basics (arrays, indexing, slicing, reshaping)\n",
    "\n",
    "NumPy provides fast n-dimensional arrays and vectorized operations."
   ]
  },
  {
   "cell_type": "code",
   "execution_count": 10,
   "id": "db47b3c5",
   "metadata": {},
   "outputs": [
    {
     "name": "stdout",
     "output_type": "stream",
     "text": [
      "Array:\n",
      " [[1 2 3]\n",
      " [4 5 6]]\n",
      "\n",
      "Shape: (2, 3)\n",
      "Dtype: int64\n",
      "\n",
      "arr[0,1] = 2\n",
      "First row: [1 2 3]\n",
      "\n",
      "Flatten then reshape to (3,2):\n",
      "[[1 2]\n",
      " [3 4]\n",
      " [5 6]]\n"
     ]
    }
   ],
   "source": [
    "import numpy as np\n",
    "\n",
    "# Create array\n",
    "arr = np.array([[1,2,3],[4,5,6]])\n",
    "print('Array:\\n', arr)\n",
    "\n",
    "# Attributes\n",
    "print('\\nShape:', arr.shape)\n",
    "print('Dtype:', arr.dtype)\n",
    "\n",
    "# Indexing & slicing\n",
    "print('\\narr[0,1] =', arr[0,1])\n",
    "print('First row:', arr[0])\n",
    "\n",
    "# Reshape\n",
    "print('\\nFlatten then reshape to (3,2):')\n",
    "print(arr.flatten().reshape(3,2))"
   ]
  },
  {
   "cell_type": "code",
   "execution_count": null,
   "id": "03ff3231-4f54-4d66-b4a0-fd5540066d92",
   "metadata": {},
   "outputs": [],
   "source": []
  }
 ],
 "metadata": {
  "authors": [
   "Sidhdi"
  ],
  "created": "2025-09-19T13:46:45.333319Z",
  "kernelspec": {
   "display_name": "Python 3 (ipykernel)",
   "language": "python",
   "name": "python3"
  },
  "language_info": {
   "codemirror_mode": {
    "name": "ipython",
    "version": 3
   },
   "file_extension": ".py",
   "mimetype": "text/x-python",
   "name": "python",
   "nbconvert_exporter": "python",
   "pygments_lexer": "ipython3",
   "version": "3.13.4"
  },
  "title": "Advanced Python Programming - Module 4: Data Processing"
 },
 "nbformat": 4,
 "nbformat_minor": 5
}
