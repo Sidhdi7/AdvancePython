{
 "cells": [
  {
   "cell_type": "code",
   "execution_count": 2,
   "id": "337e7127",
   "metadata": {},
   "outputs": [
    {
     "name": "stdout",
     "output_type": "stream",
     "text": [
      "1\n",
      "3\n",
      "5\n",
      "7\n"
     ]
    }
   ],
   "source": [
    "ODDS=[1,3,5,7]\n",
    "a,b,c,d=ODDS\n",
    "print(a)\n",
    "print(b)\n",
    "print(c)\n",
    "print(d)"
   ]
  },
  {
   "cell_type": "code",
   "execution_count": 3,
   "id": "fb1799f4",
   "metadata": {},
   "outputs": [
    {
     "name": "stdout",
     "output_type": "stream",
     "text": [
      "1\n",
      "3\n",
      "[5, 7]\n"
     ]
    }
   ],
   "source": [
    "x,y,*z=ODDS\n",
    "print(x)\n",
    "print(y)\n",
    "print(z)"
   ]
  },
  {
   "cell_type": "code",
   "execution_count": 8,
   "id": "8d9efad2",
   "metadata": {},
   "outputs": [],
   "source": [
    "def func(e,f,g,h):\n",
    "    return(e+f+g+h)\n"
   ]
  },
  {
   "cell_type": "code",
   "execution_count": 9,
   "id": "0a2aa066",
   "metadata": {},
   "outputs": [
    {
     "name": "stdout",
     "output_type": "stream",
     "text": [
      "16\n"
     ]
    }
   ],
   "source": [
    "print(func(*ODDS))"
   ]
  },
  {
   "cell_type": "code",
   "execution_count": 16,
   "id": "0be21f23",
   "metadata": {},
   "outputs": [],
   "source": [
    "def say_hi(*names):\n",
    "    for n in names:\n",
    "        print(f\"Hello,{n}\")\n",
    "        "
   ]
  },
  {
   "cell_type": "code",
   "execution_count": 17,
   "id": "a9f71da1",
   "metadata": {},
   "outputs": [
    {
     "name": "stdout",
     "output_type": "stream",
     "text": [
      "Hello,Kaushik\n",
      "Hello,Hari\n",
      "Hello,Dharshini\n"
     ]
    }
   ],
   "source": [
    "say_hi(\"Kaushik\",\"Hari\",\"Dharshini\")"
   ]
  },
  {
   "cell_type": "code",
   "execution_count": 18,
   "id": "24c23580",
   "metadata": {},
   "outputs": [],
   "source": [
    "def show_info(**info):\n",
    "    for k,v in info.items():\n",
    "        print(\"f{k}:{v}\")"
   ]
  },
  {
   "cell_type": "code",
   "execution_count": 19,
   "id": "e6471b64",
   "metadata": {},
   "outputs": [
    {
     "ename": "SyntaxError",
     "evalue": "invalid syntax (1068720977.py, line 1)",
     "output_type": "error",
     "traceback": [
      "\u001b[0;36m  File \u001b[0;32m\"/tmp/ipykernel_31320/1068720977.py\"\u001b[0;36m, line \u001b[0;32m1\u001b[0m\n\u001b[0;31m    show_infp('code':'CSI3007','name':'Python','venue':'SJT317')\u001b[0m\n\u001b[0m                    ^\u001b[0m\n\u001b[0;31mSyntaxError\u001b[0m\u001b[0;31m:\u001b[0m invalid syntax\n"
     ]
    }
   ],
   "source": [
    "show_infp('code':'CSI3007','name':'Python','venue':'SJT317')"
   ]
  },
  {
   "cell_type": "code",
   "execution_count": 22,
   "id": "1068d693",
   "metadata": {},
   "outputs": [],
   "source": [
    "x={}\n",
    "x={1:'1',2:'2',3:'3'}\n"
   ]
  },
  {
   "cell_type": "code",
   "execution_count": null,
   "id": "1a09697d",
   "metadata": {},
   "outputs": [],
   "source": []
  },
  {
   "cell_type": "code",
   "execution_count": null,
   "id": "f98298c5",
   "metadata": {},
   "outputs": [],
   "source": []
  }
 ],
 "metadata": {
  "kernelspec": {
   "display_name": "Python 3 (ipykernel)",
   "language": "python",
   "name": "python3"
  },
  "language_info": {
   "codemirror_mode": {
    "name": "ipython",
    "version": 3
   },
   "file_extension": ".py",
   "mimetype": "text/x-python",
   "name": "python",
   "nbconvert_exporter": "python",
   "pygments_lexer": "ipython3",
   "version": "3.10.12"
  }
 },
 "nbformat": 4,
 "nbformat_minor": 5
}
