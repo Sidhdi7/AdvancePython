{
 "cells": [
  {
   "cell_type": "code",
   "execution_count": 1,
   "id": "53057a68",
   "metadata": {},
   "outputs": [
    {
     "name": "stdout",
     "output_type": "stream",
     "text": [
      "1712026127728\n",
      "\n",
      "\n",
      "1712026127216\n",
      "\n",
      "\n",
      "1711934599088\n",
      "\n",
      "\n"
     ]
    }
   ],
   "source": [
    "s = 'Sidhdi'\n",
    "print(id(s))\n",
    "print('\\n')\n",
    "s += ' S'\n",
    "print(id(s))\n",
    "print('\\n')\n",
    "s += ' Khairmode'\n",
    "print(id(s))\n",
    "print('\\n')"
   ]
  },
  {
   "cell_type": "code",
   "execution_count": 2,
   "id": "19f5efa9",
   "metadata": {},
   "outputs": [
    {
     "name": "stdout",
     "output_type": "stream",
     "text": [
      "93326215443944152681699238856266700490715968264381621468592963895217599993229915608941463976156518286253697920827223758251185210916864000000000000000000000000\n"
     ]
    }
   ],
   "source": [
    "def fact(n):\n",
    "    res = 1\n",
    "    for i in range(1,n+1):\n",
    "        res *= i\n",
    "    print(res)\n",
    "fact(100)"
   ]
  },
  {
   "cell_type": "code",
   "execution_count": 3,
   "id": "6a32892a",
   "metadata": {},
   "outputs": [
    {
     "name": "stdout",
     "output_type": "stream",
     "text": [
      "1712026375856\n",
      "0\n",
      "\n",
      "\n",
      "1712026073072\n",
      "01\n",
      "\n",
      "\n",
      "1712026381168\n",
      "012\n",
      "\n",
      "\n",
      "1712030190896\n",
      "0123\n",
      "\n",
      "\n",
      "1712030188272\n",
      "01234\n",
      "\n",
      "\n",
      "1712030188528\n",
      "012345\n",
      "\n",
      "\n",
      "1712030188656\n",
      "0123456\n",
      "\n",
      "\n",
      "1712030188784\n",
      "01234567\n",
      "\n",
      "\n",
      "1712030188336\n",
      "012345678\n",
      "\n",
      "\n",
      "1712030188976\n",
      "0123456789\n",
      "\n",
      "\n"
     ]
    }
   ],
   "source": [
    "\n",
    "a = ''\n",
    "for i in range(10):\n",
    "    a += str(i)\n",
    "    print(id(a))\n",
    "    print(a)\n",
    "    print('\\n')"
   ]
  },
  {
   "cell_type": "code",
   "execution_count": 4,
   "id": "3c056dde",
   "metadata": {},
   "outputs": [
    {
     "name": "stdout",
     "output_type": "stream",
     "text": [
      "Ω\n"
     ]
    }
   ],
   "source": [
    "print('\\u03A9') #Unicode equivalent for ohm"
   ]
  },
  {
   "cell_type": "code",
   "execution_count": 5,
   "id": "5aaa8f6d",
   "metadata": {},
   "outputs": [
    {
     "name": "stdout",
     "output_type": "stream",
     "text": [
      "Ω\n",
      "😀\n"
     ]
    }
   ],
   "source": [
    "import unicodedata\n",
    "omega = unicodedata.lookup('GREEK CAPITAL LETTER OMEGA')\n",
    "smiley = unicodedata.lookup('GRINNING FACE')\n",
    "\n",
    "print(omega)\n",
    "print(smiley)"
   ]
  },
  {
   "cell_type": "code",
   "execution_count": 6,
   "id": "6faf4e72",
   "metadata": {},
   "outputs": [
    {
     "name": "stdout",
     "output_type": "stream",
     "text": [
      "Requirement already satisfied: nltk in c:\\users\\span220\\anaconda3\\lib\\site-packages (3.8.1)\n",
      "Requirement already satisfied: click in c:\\users\\span220\\anaconda3\\lib\\site-packages (from nltk) (8.0.4)\n",
      "Requirement already satisfied: joblib in c:\\users\\span220\\anaconda3\\lib\\site-packages (from nltk) (1.2.0)\n",
      "Requirement already satisfied: regex>=2021.8.3 in c:\\users\\span220\\anaconda3\\lib\\site-packages (from nltk) (2022.7.9)\n",
      "Requirement already satisfied: tqdm in c:\\users\\span220\\anaconda3\\lib\\site-packages (from nltk) (4.65.0)\n",
      "Requirement already satisfied: colorama in c:\\users\\span220\\anaconda3\\lib\\site-packages (from click->nltk) (0.4.6)\n"
     ]
    }
   ],
   "source": [
    "!pip install nltk\n",
    "import nltk"
   ]
  },
  {
   "cell_type": "code",
   "execution_count": 7,
   "id": "d24862a5",
   "metadata": {
    "scrolled": true
   },
   "outputs": [
    {
     "name": "stdout",
     "output_type": "stream",
     "text": [
      "Character: '😀'\n",
      "Decimal Unicode Code Point: 128512\n",
      "Hexadecimal Unicode point: U+1F600 \n",
      "\n",
      "Character: '字'\n",
      "Decimal Unicode Code Point: 23383\n",
      "Hexadecimal Unicode point: U+5B57 \n",
      "\n"
     ]
    }
   ],
   "source": [
    "def print_unicode_equivalent_simple(char):\n",
    "    code_print = ord(char)\n",
    "    print(f\"Character: '{char}'\")\n",
    "    print(f\"Decimal Unicode Code Point: {code_print}\")\n",
    "    print(f\"Hexadecimal Unicode point: U+{code_print:04X} \\n\")\n",
    "print_unicode_equivalent_simple('😀')\n",
    "print_unicode_equivalent_simple('字')"
   ]
  },
  {
   "cell_type": "code",
   "execution_count": 8,
   "id": "6900e965",
   "metadata": {},
   "outputs": [
    {
     "name": "stderr",
     "output_type": "stream",
     "text": [
      "[nltk_data] Downloading package punkt to\n",
      "[nltk_data]     C:\\Users\\Span220\\AppData\\Roaming\\nltk_data...\n",
      "[nltk_data]   Package punkt is already up-to-date!\n",
      "[nltk_data] Downloading package averaged_perceptron_tagger to\n",
      "[nltk_data]     C:\\Users\\Span220\\AppData\\Roaming\\nltk_data...\n",
      "[nltk_data]   Unzipping taggers\\averaged_perceptron_tagger.zip.\n"
     ]
    },
    {
     "name": "stdout",
     "output_type": "stream",
     "text": [
      "[('Mars', 'NNS'), ('is', 'VBZ'), ('the', 'DT'), ('fourth', 'JJ'), ('planet', 'NN'), ('from', 'IN'), ('the', 'DT'), ('Sun', 'NNP'), ('.', '.')]\n",
      "[('It', 'PRP'), ('is', 'VBZ'), ('also', 'RB'), ('known', 'VBN'), ('as', 'IN'), ('the', 'DT'), ('Red', 'NNP'), ('Planet', 'NNP'), (',', ','), ('because', 'IN'), ('of', 'IN'), ('its', 'PRP$'), ('orange-red', 'JJ'), ('appearance', 'NN'), ('.', '.')]\n",
      "[('[', 'RB'), ('22', 'CD'), (']', 'JJ'), ('[', '$'), ('23', 'CD'), (']', 'NNP'), ('Mars', 'NNP'), ('is', 'VBZ'), ('a', 'DT'), ('desert-like', 'JJ'), ('rocky', 'JJ'), ('planet', 'NN'), ('with', 'IN'), ('a', 'DT'), ('tenuous', 'JJ'), ('carbon', 'NN'), ('dioxide', 'NN'), ('(', '('), ('CO2', 'NNP'), (')', ')'), ('atmosphere', 'RB'), ('.', '.')]\n",
      "[('At', 'IN'), ('the', 'DT'), ('average', 'JJ'), ('surface', 'NN'), ('level', 'NN'), ('the', 'DT'), ('atmospheric', 'JJ'), ('pressure', 'NN'), ('is', 'VBZ'), ('a', 'DT'), ('few', 'JJ'), ('thousandths', 'NNS'), ('of', 'IN'), ('Earth', 'NNP'), ('s', 'NN'), (',', ','), ('atmospheric', 'JJ'), ('temperature', 'NN'), ('ranges', 'VBZ'), ('from', 'IN'), ('−153', 'NN'), ('to', 'TO'), ('20', 'CD'), ('°C', 'NNS'), ('(', '('), ('−243', 'VB'), ('to', 'TO'), ('68', 'CD'), ('°F', 'NN'), (')', ')'), ('[', 'VBZ'), ('24', 'CD'), (']', 'NN'), ('and', 'CC'), ('cosmic', 'JJ'), ('radiation', 'NN'), ('is', 'VBZ'), ('high', 'JJ'), ('.', '.')]\n",
      "[('Mars', 'NNP'), ('retains', 'VBZ'), ('some', 'DT'), ('water', 'NN'), (',', ','), ('in', 'IN'), ('the', 'DT'), ('ground', 'NN'), ('as', 'RB'), ('well', 'RB'), ('as', 'IN'), ('thinly', 'RB'), ('in', 'IN'), ('the', 'DT'), ('atmosphere', 'NN'), (',', ','), ('forming', 'VBG'), ('cirrus', 'NN'), ('clouds', 'NNS'), (',', ','), ('frost', 'NN'), (',', ','), ('larger', 'JJR'), ('polar', 'JJ'), ('regions', 'NNS'), ('of', 'IN'), ('permafrost', 'NN'), ('and', 'CC'), ('ice', 'NN'), ('caps', 'NNS'), ('(', '('), ('with', 'IN'), ('seasonal', 'JJ'), ('CO2', 'NNP'), ('snow', 'NN'), (')', ')'), (',', ','), ('but', 'CC'), ('no', 'DT'), ('liquid', 'JJ'), ('surface', 'NN'), ('water', 'NN'), ('.', '.')]\n",
      "[('Its', 'PRP$'), ('surface', 'NN'), ('gravity', 'NN'), ('is', 'VBZ'), ('roughly', 'RB'), ('a', 'DT'), ('third', 'JJ'), ('of', 'IN'), ('Earth', 'NNP'), ('s', 'FW'), ('or', 'CC'), ('double', 'JJ'), ('that', 'IN'), ('of', 'IN'), ('the', 'DT'), ('Moon', 'NNP'), ('.', '.')]\n",
      "[('It', 'PRP'), ('is', 'VBZ'), ('half', 'JJ'), ('as', 'RB'), ('wide', 'JJ'), ('as', 'IN'), ('Earth', 'NN'), ('or', 'CC'), ('twice', 'RB'), ('the', 'DT'), ('Moon', 'NNP'), (',', ','), ('with', 'IN'), ('a', 'DT'), ('diameter', 'NN'), ('of', 'IN'), ('6,779', 'CD'), ('km', 'NNS'), ('(', '('), ('4,212', 'CD'), ('mi', 'NN'), (')', ')'), (',', ','), ('and', 'CC'), ('has', 'VBZ'), ('a', 'DT'), ('surface', 'NN'), ('area', 'NN'), ('the', 'DT'), ('size', 'NN'), ('of', 'IN'), ('all', 'PDT'), ('the', 'DT'), ('dry', 'JJ'), ('land', 'NN'), ('of', 'IN'), ('Earth', 'NNP'), ('.', '.')]\n"
     ]
    }
   ],
   "source": [
    "nltk.download('punkt')\n",
    "nltk.download('averaged_perceptron_tagger')\n",
    "\n",
    "texts = [\"Mars is the fourth planet from the Sun. It is also known as the Red Planet , because of its orange-red appearance.[22][23] Mars is a desert-like rocky planet with a tenuous carbon dioxide (CO2) atmosphere. At the average surface level the atmospheric pressure is a few thousandths of Earth s, atmospheric temperature ranges from −153 to 20 °C (−243 to 68 °F)[24] and cosmic radiation is high. Mars retains some water, in the ground as well as thinly in the atmosphere, forming cirrus clouds, frost, larger polar regions of permafrost and ice caps (with seasonal CO2 snow), but no liquid surface water. Its surface gravity is roughly a third of Earth s or double that of the Moon. It is half as wide as Earth or twice the Moon, with a diameter of 6,779 km (4,212 mi), and has a surface area the size of all the dry land of Earth.\"]\n",
    "\n",
    "for text in texts:\n",
    "    sentences = nltk.sent_tokenize(text)\n",
    "    for sentence in sentences:\n",
    "        words = nltk.word_tokenize(sentence)\n",
    "        tagged_words = nltk.pos_tag(words)\n",
    "        print(tagged_words)"
   ]
  },
  {
   "cell_type": "code",
   "execution_count": null,
   "id": "4065b605",
   "metadata": {},
   "outputs": [],
   "source": []
  }
 ],
 "metadata": {
  "kernelspec": {
   "display_name": "Python 3 (ipykernel)",
   "language": "python",
   "name": "python3"
  },
  "language_info": {
   "codemirror_mode": {
    "name": "ipython",
    "version": 3
   },
   "file_extension": ".py",
   "mimetype": "text/x-python",
   "name": "python",
   "nbconvert_exporter": "python",
   "pygments_lexer": "ipython3",
   "version": "3.11.5"
  }
 },
 "nbformat": 4,
 "nbformat_minor": 5
}
