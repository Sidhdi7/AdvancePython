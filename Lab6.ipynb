{
 "cells": [
  {
   "cell_type": "code",
   "execution_count": 11,
   "id": "fb82cf98",
   "metadata": {},
   "outputs": [
    {
     "name": "stdout",
     "output_type": "stream",
     "text": [
      "1\n",
      "3\n",
      "5\n",
      "7\n"
     ]
    }
   ],
   "source": [
    "odds = [1,3,5,7]\n",
    "a,b,c,d = odds\n",
    "print(a)\n",
    "print(b)\n",
    "print(c)\n",
    "print(d)\n"
   ]
  },
  {
   "cell_type": "code",
   "execution_count": 12,
   "id": "59099266",
   "metadata": {},
   "outputs": [
    {
     "name": "stdout",
     "output_type": "stream",
     "text": [
      "1\n",
      "3\n",
      "[5, 7]\n"
     ]
    }
   ],
   "source": [
    "a,b,*c = odds\n",
    "print(a) #OUTPUT 1\n",
    "print(b) #OUTPUT 3\n",
    "print(c) #OUTPUT [5,7]"
   ]
  },
  {
   "cell_type": "code",
   "execution_count": 13,
   "id": "acb4a5bd",
   "metadata": {},
   "outputs": [
    {
     "name": "stdout",
     "output_type": "stream",
     "text": [
      "3\n",
      "[5, 7]\n",
      "9\n"
     ]
    }
   ],
   "source": [
    "a,*b,c = [3,5,7,9]\n",
    "print(a)\n",
    "print(b)\n",
    "print(c)"
   ]
  },
  {
   "cell_type": "code",
   "execution_count": 14,
   "id": "fb0b5919",
   "metadata": {},
   "outputs": [
    {
     "name": "stdout",
     "output_type": "stream",
     "text": [
      "9\n"
     ]
    }
   ],
   "source": [
    "\n",
    "odds = [1,3,5]\n",
    "def a(x,y,z):\n",
    "    return (x+y+z)\n",
    "\n",
    "# Passing a list using unpacking\n",
    "print(a(*odds))"
   ]
  },
  {
   "cell_type": "code",
   "execution_count": 15,
   "id": "fee17921",
   "metadata": {},
   "outputs": [
    {
     "name": "stdout",
     "output_type": "stream",
     "text": [
      "9\n"
     ]
    }
   ],
   "source": [
    "def a(x,y,z):\n",
    "    return (x+y+z)\n",
    "print(a(1,3,5))"
   ]
  },
  {
   "cell_type": "code",
   "execution_count": 16,
   "id": "6d2b6c55",
   "metadata": {},
   "outputs": [
    {
     "name": "stdout",
     "output_type": "stream",
     "text": [
      "9\n"
     ]
    }
   ],
   "source": [
    "\n",
    "def a(*var):\n",
    "    sum = 0\n",
    "    for n in var:\n",
    "        sum += n\n",
    "    return sum\n",
    "print(a(1,3,5))"
   ]
  },
  {
   "cell_type": "code",
   "execution_count": 17,
   "id": "6225aac4",
   "metadata": {},
   "outputs": [
    {
     "name": "stdout",
     "output_type": "stream",
     "text": [
      "9\n"
     ]
    }
   ],
   "source": [
    "def a(*var):\n",
    "    sum = 0\n",
    "    for n in var:\n",
    "        sum += n\n",
    "    return sum\n",
    "print(a(*odds))"
   ]
  },
  {
   "cell_type": "code",
   "execution_count": 18,
   "id": "fa9a784d",
   "metadata": {},
   "outputs": [
    {
     "name": "stdout",
     "output_type": "stream",
     "text": [
      "Code:CSI3007\n",
      "Name:Python\n",
      "Venue:SJT318\n"
     ]
    }
   ],
   "source": [
    "def show_info(**info):\n",
    "    for k,v in info.items():\n",
    "        print(f\"{k}:{v}\")\n",
    "show_info(Code=\"CSI3007\",Name=\"Python\",Venue=\"SJT318\")"
   ]
  },
  {
   "cell_type": "code",
   "execution_count": null,
   "id": "38eb117b",
   "metadata": {},
   "outputs": [],
   "source": []
  }
 ],
 "metadata": {
  "kernelspec": {
   "display_name": "Python 3 (ipykernel)",
   "language": "python",
   "name": "python3"
  },
  "language_info": {
   "codemirror_mode": {
    "name": "ipython",
    "version": 3
   },
   "file_extension": ".py",
   "mimetype": "text/x-python",
   "name": "python",
   "nbconvert_exporter": "python",
   "pygments_lexer": "ipython3",
   "version": "3.11.5"
  }
 },
 "nbformat": 4,
 "nbformat_minor": 5
}
