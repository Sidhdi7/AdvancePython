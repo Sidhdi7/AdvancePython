{
 "cells": [
  {
   "cell_type": "markdown",
   "id": "177c113e-5d1c-4a52-b88e-694f5cfa8a9e",
   "metadata": {},
   "source": [
    "## Sidhdi Vijay K 22MIC0168 Lab-13"
   ]
  },
  {
   "cell_type": "markdown",
   "id": "ceef7d2c",
   "metadata": {},
   "source": [
    "# NumPy Practice Notebook\n"
   ]
  },
  {
   "cell_type": "code",
   "execution_count": 4,
   "id": "0c1bde5f",
   "metadata": {},
   "outputs": [
    {
     "name": "stdout",
     "output_type": "stream",
     "text": [
      "NumPy version: 2.2.6\n"
     ]
    }
   ],
   "source": [
    "# Import NumPy and set a random seed for reproducibility\n",
    "import numpy as np\n",
    "np.random.seed(0)\n",
    "print('NumPy version:', np.__version__)"
   ]
  },
  {
   "cell_type": "markdown",
   "id": "81ab195c",
   "metadata": {},
   "source": [
    "## 1) Basic array creation\n",
    "Examples: `np.array`, `np.eye`, `np.linspace`, `np.arange`, `np.zeros`, `np.ones`, `np.full`."
   ]
  },
  {
   "cell_type": "code",
   "execution_count": 5,
   "id": "235acdb3",
   "metadata": {},
   "outputs": [
    {
     "name": "stdout",
     "output_type": "stream",
     "text": [
      "np.array -> [10 20 30 40 50]\n",
      "\n",
      "np.eye ->\n",
      " [[1. 0. 0.]\n",
      " [0. 1. 0.]\n",
      " [0. 0. 1.]]\n",
      "\n",
      "np.linspace -> [1.  1.5 2.  2.5 3.  3.5 4.  4.5 5. ]\n",
      "\n",
      "np.arange -> [ 2  5  8 11 14]\n",
      "\n",
      "np.zeros ->\n",
      " [[0. 0. 0. 0. 0. 0.]\n",
      " [0. 0. 0. 0. 0. 0.]]\n",
      "\n",
      "np.ones ->\n",
      " [[1. 1.]\n",
      " [1. 1.]\n",
      " [1. 1.]\n",
      " [1. 1.]]\n",
      "\n",
      "np.full ->\n",
      " [[9 9 9 9 9]\n",
      " [9 9 9 9 9]\n",
      " [9 9 9 9 9]]\n"
     ]
    }
   ],
   "source": [
    "# 1. Creating a NumPy array using np.array()\n",
    "arr = np.array([10, 20, 30, 40, 50])\n",
    "print('np.array ->', arr)\n",
    "\n",
    "# 2. Identity matrix with np.eye()\n",
    "eye_mat = np.eye(3)\n",
    "print('\\nnp.eye ->\\n', eye_mat)\n",
    "\n",
    "# 3. Evenly spaced values with np.linspace()\n",
    "lin_vals = np.linspace(1, 5, 9)\n",
    "print('\\nnp.linspace ->', lin_vals)\n",
    "\n",
    "# 4. Sequential numbers with np.arange()\n",
    "arange_vals = np.arange(2, 15, 3)  # start, stop (exclusive), step\n",
    "print('\\nnp.arange ->', arange_vals)\n",
    "\n",
    "# 5. Array of zeros using np.zeros()\n",
    "zero_matrix = np.zeros((2, 6))\n",
    "print('\\nnp.zeros ->\\n', zero_matrix)\n",
    "\n",
    "# 6. Array of ones using np.ones()\n",
    "ones_matrix = np.ones((4, 2))\n",
    "print('\\nnp.ones ->\\n', ones_matrix)\n",
    "\n",
    "# 7. Constant value array using np.full()\n",
    "const_array = np.full((3, 5), 9)\n",
    "print('\\nnp.full ->\\n', const_array)"
   ]
  },
  {
   "cell_type": "markdown",
   "id": "21b9d7f7",
   "metadata": {},
   "source": [
    "## 2) Random numbers & index grids\n",
    "`np.random.rand`, `np.random.randint`, and `np.indices`."
   ]
  },
  {
   "cell_type": "code",
   "execution_count": 6,
   "id": "e5c2674a",
   "metadata": {},
   "outputs": [
    {
     "name": "stdout",
     "output_type": "stream",
     "text": [
      "np.random.rand ->\n",
      " [[0.5488135  0.71518937]\n",
      " [0.60276338 0.54488318]\n",
      " [0.4236548  0.64589411]]\n",
      "\n",
      "np.random.randint ->\n",
      " [[41 28 11 29]\n",
      " [29 17  6 43]]\n",
      "\n",
      "np.indices ->\n",
      " [[[0 0 0]\n",
      "  [1 1 1]]\n",
      "\n",
      " [[0 1 2]\n",
      "  [0 1 2]]]\n"
     ]
    }
   ],
   "source": [
    "# 8. Random floats between 0 and 1 using np.random.rand()\n",
    "random_floats = np.random.rand(3, 2)\n",
    "print('np.random.rand ->\\n', random_floats)\n",
    "\n",
    "# 9. Random integers with np.random.randint()\n",
    "random_ints = np.random.randint(5, 50, size=(2, 4))\n",
    "print('\\nnp.random.randint ->\\n', random_ints)\n",
    "\n",
    "# 10. Creating index grids with np.indices()\n",
    "grid_idx = np.indices((2, 3))\n",
    "print('\\nnp.indices ->\\n', grid_idx)"
   ]
  },
  {
   "cell_type": "markdown",
   "id": "317cc946",
   "metadata": {},
   "source": [
    "## 3) Array properties, reshape and transpose"
   ]
  },
  {
   "cell_type": "code",
   "execution_count": 7,
   "id": "cace0d8d",
   "metadata": {},
   "outputs": [
    {
     "name": "stdout",
     "output_type": "stream",
     "text": [
      "Dimensions (ndim): 1\n",
      "Number of elements (size): 5\n",
      "Shape (rows, cols): (5,)\n",
      "\n",
      "np.reshape ->\n",
      " [[ 0  1  2  3]\n",
      " [ 4  5  6  7]\n",
      " [ 8  9 10 11]\n",
      " [12 13 14 15]]\n",
      "\n",
      "Transpose ->\n",
      " [[ 0  4  8 12]\n",
      " [ 1  5  9 13]\n",
      " [ 2  6 10 14]\n",
      " [ 3  7 11 15]]\n"
     ]
    }
   ],
   "source": [
    "# 11. Array properties\n",
    "print('Dimensions (ndim):', arr.ndim)\n",
    "print('Number of elements (size):', arr.size)\n",
    "print('Shape (rows, cols):', arr.shape)\n",
    "\n",
    "# 12. Reshaping with np.reshape()\n",
    "reshaped_arr = np.arange(16).reshape(4, 4)\n",
    "print('\\nnp.reshape ->\\n', reshaped_arr)\n",
    "\n",
    "# 13. Transpose of matrix using .T\n",
    "transposed_arr = reshaped_arr.T\n",
    "print('\\nTranspose ->\\n', transposed_arr)"
   ]
  },
  {
   "cell_type": "markdown",
   "id": "1e567d4e",
   "metadata": {},
   "source": [
    "## 4) Math operations and statistics\n",
    "`sum`, `mean`, `max`, `min`, `std`. "
   ]
  },
  {
   "cell_type": "code",
   "execution_count": 8,
   "id": "c2214110",
   "metadata": {},
   "outputs": [
    {
     "name": "stdout",
     "output_type": "stream",
     "text": [
      "Sum: 30\n",
      "Average: 6.0\n",
      "Maximum: 10\n",
      "Minimum: 2\n",
      "Std Deviation: 2.8284271247461903\n"
     ]
    }
   ],
   "source": [
    "# 14. Basic mathematical operations\n",
    "nums = np.array([2, 4, 6, 8, 10])\n",
    "print('Sum:', np.sum(nums))\n",
    "print('Average:', np.mean(nums))\n",
    "print('Maximum:', np.max(nums))\n",
    "print('Minimum:', np.min(nums))\n",
    "print('Std Deviation:', np.std(nums))"
   ]
  },
  {
   "cell_type": "markdown",
   "id": "2f42cd08",
   "metadata": {},
   "source": [
    "## 5) Diagonal matrix, flattening, sorting and unique values"
   ]
  },
  {
   "cell_type": "code",
   "execution_count": 9,
   "id": "253985ad",
   "metadata": {},
   "outputs": [
    {
     "name": "stdout",
     "output_type": "stream",
     "text": [
      "np.diag ->\n",
      " [[ 4  0  0]\n",
      " [ 0  8  0]\n",
      " [ 0  0 12]]\n",
      "\n",
      "np.ravel -> [ 0  1  2  3  4  5  6  7  8  9 10 11 12 13 14 15]\n",
      "\n",
      "np.sort -> [ 1  4  7  9 12]\n",
      "\n",
      "np.unique -> [1 2 3 4 5]\n"
     ]
    }
   ],
   "source": [
    "# 15. Creating a diagonal matrix with np.diag()\n",
    "diag_matrix = np.diag([4, 8, 12])\n",
    "print('np.diag ->\\n', diag_matrix)\n",
    "\n",
    "# 16. Flattening array using np.ravel()\n",
    "flat_arr = reshaped_arr.ravel()\n",
    "print('\\nnp.ravel ->', flat_arr)\n",
    "\n",
    "# 17. Sorting arrays with np.sort()\n",
    "unsorted = np.array([12, 4, 9, 1, 7])\n",
    "sorted_output = np.sort(unsorted)\n",
    "print('\\nnp.sort ->', sorted_output)\n",
    "\n",
    "# 18. Unique values with np.unique()\n",
    "dup_array = np.array([1, 2, 2, 3, 4, 3, 1, 5])\n",
    "unique_output = np.unique(dup_array)\n",
    "print('\\nnp.unique ->', unique_output)"
   ]
  },
  {
   "cell_type": "markdown",
   "id": "e0f21fea",
   "metadata": {},
   "source": [
    "## 6) Concatenation, splitting and stacking"
   ]
  },
  {
   "cell_type": "code",
   "execution_count": 10,
   "id": "0caa020d",
   "metadata": {},
   "outputs": [
    {
     "name": "stdout",
     "output_type": "stream",
     "text": [
      "np.concatenate -> [1 2 3 4 5 6]\n",
      "\n",
      "np.split -> [array([0, 1]), array([2, 3]), array([4, 5]), array([6, 7]), array([8, 9])]\n",
      "\n",
      "np.vstack ->\n",
      " [[1 2 3]\n",
      " [4 5 6]]\n",
      "\n",
      "np.hstack -> [1 2 3 4 5 6]\n"
     ]
    }
   ],
   "source": [
    "# 19. Concatenating arrays using np.concatenate()\n",
    "arr1 = np.array([1, 2, 3])\n",
    "arr2 = np.array([4, 5, 6])\n",
    "merged = np.concatenate((arr1, arr2))\n",
    "print('np.concatenate ->', merged)\n",
    "\n",
    "# 20. Splitting arrays with np.split()\n",
    "splits = np.split(np.arange(10), 5)\n",
    "print('\\nnp.split ->', splits)\n",
    "\n",
    "# 21. Vertical stacking with np.vstack()\n",
    "v_stacked = np.vstack((arr1, arr2))\n",
    "print('\\nnp.vstack ->\\n', v_stacked)\n",
    "\n",
    "# 22. Horizontal stacking with np.hstack()\n",
    "h_stacked = np.hstack((arr1, arr2))\n",
    "print('\\nnp.hstack ->', h_stacked)"
   ]
  },
  {
   "cell_type": "markdown",
   "id": "134a7f6d",
   "metadata": {},
   "source": [
    "## 7) Searching, clipping, dot product & cumulative ops"
   ]
  },
  {
   "cell_type": "code",
   "execution_count": 11,
   "id": "e123cdd6",
   "metadata": {},
   "outputs": [
    {
     "name": "stdout",
     "output_type": "stream",
     "text": [
      "np.where -> (array([2, 3, 4]),)\n",
      "\n",
      "np.clip -> [ 5 15  7 15  5]\n",
      "\n",
      "np.dot ->\n",
      " [[ 4  4]\n",
      " [10  8]]\n",
      "\n",
      "np.cumsum -> [ 1  3  6 10 15]\n",
      "\n",
      "np.cumprod -> [ 1  2  6 24]\n",
      "\n",
      "np.logspace -> [  10.           31.6227766   100.          316.22776602 1000.        ]\n"
     ]
    }
   ],
   "source": [
    "# 23. Conditional extraction with np.where()\n",
    "cond_arr = np.array([5, 10, 15, 20, 25])\n",
    "indices = np.where(cond_arr > 12)\n",
    "print('np.where ->', indices)\n",
    "\n",
    "# 24. Clipping values with np.clip()\n",
    "clip_arr = np.array([3, 15, 7, 22, 1])\n",
    "clipped = np.clip(clip_arr, 5, 15)\n",
    "print('\\nnp.clip ->', clipped)\n",
    "\n",
    "# 25. Dot product with np.dot()\n",
    "dot_a = np.array([[1, 2], [3, 4]])\n",
    "dot_b = np.array([[2, 0], [1, 2]])\n",
    "dot_result = np.dot(dot_a, dot_b)\n",
    "print('\\nnp.dot ->\\n', dot_result)\n",
    "\n",
    "# 26. Cumulative sum with np.cumsum()\n",
    "cum_sum = np.cumsum([1, 2, 3, 4, 5])\n",
    "print('\\nnp.cumsum ->', cum_sum)\n",
    "\n",
    "# 27. Cumulative product with np.cumprod()\n",
    "cum_prod = np.cumprod([1, 2, 3, 4])\n",
    "print('\\nnp.cumprod ->', cum_prod)\n",
    "\n",
    "# 28. Generating evenly spaced numbers in log scale with np.logspace()\n",
    "log_vals = np.logspace(1, 3, 5)\n",
    "print('\\nnp.logspace ->', log_vals)"
   ]
  },
  {
   "cell_type": "markdown",
   "id": "98f587c9",
   "metadata": {},
   "source": [
    "## 8) NaN checks and boolean masking"
   ]
  },
  {
   "cell_type": "code",
   "execution_count": 12,
   "id": "9c74c356",
   "metadata": {},
   "outputs": [
    {
     "name": "stdout",
     "output_type": "stream",
     "text": [
      "np.isnan -> [False False  True False]\n",
      "\n",
      "Boolean Masking -> [20 25 30]\n",
      "Indices where >18: (array([2, 3, 4]),)\n"
     ]
    }
   ],
   "source": [
    "# 29. Checking NaN values with np.isnan()\n",
    "nan_arr = np.array([1, 2, np.nan, 4])\n",
    "print('np.isnan ->', np.isnan(nan_arr))\n",
    "\n",
    "# 30. Boolean masking with conditions\n",
    "mask_arr = np.array([10, 15, 20, 25, 30])\n",
    "masked = mask_arr[mask_arr > 18]\n",
    "print('\\nBoolean Masking ->', masked)\n",
    "\n",
    "# Bonus: demonstrate masking indices too\n",
    "print('Indices where >18:', np.where(mask_arr > 18))"
   ]
  }
 ],
 "metadata": {
  "kernelspec": {
   "display_name": "Python 3 (ipykernel)",
   "language": "python",
   "name": "python3"
  },
  "language_info": {
   "codemirror_mode": {
    "name": "ipython",
    "version": 3
   },
   "file_extension": ".py",
   "mimetype": "text/x-python",
   "name": "python",
   "nbconvert_exporter": "python",
   "pygments_lexer": "ipython3",
   "version": "3.13.4"
  }
 },
 "nbformat": 4,
 "nbformat_minor": 5
}
