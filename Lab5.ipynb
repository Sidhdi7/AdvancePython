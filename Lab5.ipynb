{
 "cells": [
  {
   "cell_type": "markdown",
   "id": "ae875858",
   "metadata": {},
   "source": [
    "Sidhdi Vijay K 22MIC0168"
   ]
  },
  {
   "cell_type": "code",
   "execution_count": 1,
   "id": "0214e9e5",
   "metadata": {},
   "outputs": [
    {
     "name": "stdout",
     "output_type": "stream",
     "text": [
      "1\n",
      "2\n",
      "3\n",
      "4\n",
      "5\n",
      "6\n",
      "7\n",
      "8\n",
      "9\n"
     ]
    }
   ],
   "source": [
    "for i in range(1,10):\n",
    "    print(i)"
   ]
  },
  {
   "cell_type": "code",
   "execution_count": 2,
   "id": "da95f624",
   "metadata": {},
   "outputs": [
    {
     "name": "stdout",
     "output_type": "stream",
     "text": [
      "[1, 2]\n",
      "[6, 7]\n",
      "[3, 4, 5, 6, 7]\n"
     ]
    }
   ],
   "source": [
    "l = [1,2,3,4,5,6,7] # original/complete list\n",
    "print(l[:2]) # first 2 element \n",
    "print(l[-2:]) # last 2 element \n",
    "print(l[2:]) # 3rd element to the last"
   ]
  },
  {
   "cell_type": "code",
   "execution_count": 9,
   "id": "66449747",
   "metadata": {},
   "outputs": [
    {
     "name": "stdout",
     "output_type": "stream",
     "text": [
      "copied list: ['cake', 'pizza', 'noodles', 'pasta']\n",
      "original list: ['cake', 'pizza']\n"
     ]
    }
   ],
   "source": [
    "my_fav = ['cake','pizza','noodles']\n",
    "friend_fav = my_fav[:] #if use this a different list with same values is formed, this is copy-by-value  \n",
    "my_fav.pop() # removing the last element\n",
    "friend_fav.append('pasta') # adding a new element\n",
    "print('copied list:',friend_fav)\n",
    "print('original list:',my_fav)"
   ]
  },
  {
   "cell_type": "code",
   "execution_count": 10,
   "id": "41cd2ce7",
   "metadata": {},
   "outputs": [
    {
     "name": "stdout",
     "output_type": "stream",
     "text": [
      "referenced list:  ['cake', 'burger']\n",
      "original list: ['cake', 'burger']\n"
     ]
    }
   ],
   "source": [
    "friend_fav=my_fav # if we use this a refernce to the initial list is made, a new list is not formed this is copy-by-reference\n",
    "friend_fav.pop() # removing the last element\n",
    "my_fav.append('burger') # adding a new element\n",
    "print('referenced list: ',friend_fav)\n",
    "print('original list:',my_fav)"
   ]
  },
  {
   "cell_type": "code",
   "execution_count": 5,
   "id": "bd9040f3",
   "metadata": {},
   "outputs": [
    {
     "name": "stdout",
     "output_type": "stream",
     "text": [
      "Cake\n",
      "Burger\n"
     ]
    }
   ],
   "source": [
    "for r in my_fav[:3]:\n",
    "    print(r.title())"
   ]
  },
  {
   "cell_type": "code",
   "execution_count": 6,
   "id": "8acb395d",
   "metadata": {},
   "outputs": [
    {
     "data": {
      "text/plain": [
       "(3, 4)"
      ]
     },
     "execution_count": 6,
     "metadata": {},
     "output_type": "execute_result"
    }
   ],
   "source": [
    "t = (1,2,3,4)\n",
    "t[2:]"
   ]
  },
  {
   "cell_type": "code",
   "execution_count": 8,
   "id": "bbbaf1ca",
   "metadata": {},
   "outputs": [
    {
     "name": "stdout",
     "output_type": "stream",
     "text": [
      "Before complete re-assignment (1, 2, 3, 4)\n",
      "After complete re-assignment of tutple (5, 6, 7, 8)\n"
     ]
    }
   ],
   "source": [
    "print('Before complete re-assignment',t)\n",
    "t = (5,6,7,8)\n",
    "print('After complete re-assignment of tutple',t)"
   ]
  },
  {
   "cell_type": "code",
   "execution_count": 11,
   "id": "4ccc74a4",
   "metadata": {},
   "outputs": [
    {
     "data": {
      "text/plain": [
       "{'reg': '22MIC0168', 'program': 'MIC', 'CGPA': 8.41, 'Attendance': 90}"
      ]
     },
     "execution_count": 11,
     "metadata": {},
     "output_type": "execute_result"
    }
   ],
   "source": [
    "s1 = {'reg':'22MIC0168', 'program':'MIC','CGPA':8.41,'Attendance':90}\n",
    "s1"
   ]
  },
  {
   "cell_type": "code",
   "execution_count": null,
   "id": "dcbce9d1",
   "metadata": {},
   "outputs": [],
   "source": []
  }
 ],
 "metadata": {
  "kernelspec": {
   "display_name": "Python 3 (ipykernel)",
   "language": "python",
   "name": "python3"
  },
  "language_info": {
   "codemirror_mode": {
    "name": "ipython",
    "version": 3
   },
   "file_extension": ".py",
   "mimetype": "text/x-python",
   "name": "python",
   "nbconvert_exporter": "python",
   "pygments_lexer": "ipython3",
   "version": "3.11.5"
  }
 },
 "nbformat": 4,
 "nbformat_minor": 5
}
