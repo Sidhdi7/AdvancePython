{
 "cells": [
  {
   "cell_type": "code",
   "execution_count": 5,
   "id": "85a625ee-1324-452a-9886-575bbc332065",
   "metadata": {},
   "outputs": [
    {
     "name": "stdout",
     "output_type": "stream",
     "text": [
      "Defaulting to user installation because normal site-packages is not writeable\n",
      "Requirement already satisfied: playsound in c:\\users\\admin\\appdata\\roaming\\python\\python313\\site-packages (1.2.2)\n",
      "Requirement already satisfied: gTTS in c:\\users\\admin\\appdata\\roaming\\python\\python313\\site-packages (2.5.4)\n",
      "Requirement already satisfied: requests<3,>=2.27 in c:\\users\\admin\\appdata\\roaming\\python\\python313\\site-packages (from gTTS) (2.32.4)\n",
      "Requirement already satisfied: click<8.2,>=7.1 in c:\\users\\admin\\appdata\\roaming\\python\\python313\\site-packages (from gTTS) (8.1.8)\n",
      "Requirement already satisfied: colorama in c:\\users\\admin\\appdata\\roaming\\python\\python313\\site-packages (from click<8.2,>=7.1->gTTS) (0.4.6)\n",
      "Requirement already satisfied: charset_normalizer<4,>=2 in c:\\users\\admin\\appdata\\roaming\\python\\python313\\site-packages (from requests<3,>=2.27->gTTS) (3.4.2)\n",
      "Requirement already satisfied: idna<4,>=2.5 in c:\\users\\admin\\appdata\\roaming\\python\\python313\\site-packages (from requests<3,>=2.27->gTTS) (3.10)\n",
      "Requirement already satisfied: urllib3<3,>=1.21.1 in c:\\users\\admin\\appdata\\roaming\\python\\python313\\site-packages (from requests<3,>=2.27->gTTS) (2.4.0)\n",
      "Requirement already satisfied: certifi>=2017.4.17 in c:\\users\\admin\\appdata\\roaming\\python\\python313\\site-packages (from requests<3,>=2.27->gTTS) (2025.4.26)\n"
     ]
    }
   ],
   "source": [
    "22MIC0168 Sidhdi Vijay K"
    "!pip install playsound gTTS\n"
   ]
  },
  {
   "cell_type": "code",
   "execution_count": 6,
   "id": "f482f812-c886-44b7-a0fe-5cc139278cee",
   "metadata": {},
   "outputs": [
    {
     "name": "stdout",
     "output_type": "stream",
     "text": [
      "✅ test.mp3 has been created.\n"
     ]
    }
   ],
   "source": [
    "from gtts import gTTS\n",
    "\n",
    "# Sample text to convert to speech\n",
    "text = \"Hello! This is a test MP3 file generated in Jupyter Notebook.\"\n",
    "\n",
    "# Generate the audio\n",
    "tts = gTTS(text)\n",
    "\n",
    "# Save it to a file\n",
    "tts.save(\"test.mp3\")\n",
    "\n",
    "print(\"✅ test.mp3 has been created.\")\n"
   ]
  },
  {
   "cell_type": "code",
   "execution_count": 7,
   "id": "d1cd940a-dff4-4fd4-b529-379c77e65e71",
   "metadata": {},
   "outputs": [],
   "source": [
    "from playsound import playsound\n",
    "import os\n",
    "\n",
    "class AudioPlayer:\n",
    "    def __init__(self, file_path=None):\n",
    "        \"\"\"\n",
    "        Initialize with optional file path.\n",
    "        \"\"\"\n",
    "        self.file_path = file_path\n",
    "\n",
    "    def set_audio(self, file_path):\n",
    "        \"\"\"\n",
    "        Set or update audio file path.\n",
    "        \"\"\"\n",
    "        if not os.path.exists(file_path):\n",
    "            raise FileNotFoundError(f\"File not found: {file_path}\")\n",
    "        self.file_path = file_path\n",
    "\n",
    "    def play(self):\n",
    "        \"\"\"\n",
    "        Play the audio file.\n",
    "        \"\"\"\n",
    "        if not self.file_path:\n",
    "            raise ValueError(\"No audio file path set.\")\n",
    "        print(f\"🎵 Playing: {self.file_path}\")\n",
    "        playsound(self.file_path)\n"
   ]
  },
  {
   "cell_type": "code",
   "execution_count": 8,
   "id": "658527a0-e1c2-42ab-a4af-aae36a0a4587",
   "metadata": {},
   "outputs": [
    {
     "name": "stdout",
     "output_type": "stream",
     "text": [
      "🎵 Playing: test.mp3\n"
     ]
    }
   ],
   "source": [
    "# Create an instance of the AudioPlayer\n",
    "player = AudioPlayer()\n",
    "\n",
    "# Set the audio file created earlier\n",
    "player.set_audio(\"test.mp3\")\n",
    "\n",
    "# Play the file\n",
    "player.play()\n"
   ]
  },
  {
   "cell_type": "code",
   "execution_count": null,
   "id": "394f392e-745b-45e8-82e3-65124016fb7d",
   "metadata": {},
   "outputs": [],
   "source": []
  }
 ],
 "metadata": {
  "kernelspec": {
   "display_name": "Python 3 (ipykernel)",
   "language": "python",
   "name": "python3"
  },
  "language_info": {
   "codemirror_mode": {
    "name": "ipython",
    "version": 3
   },
   "file_extension": ".py",
   "mimetype": "text/x-python",
   "name": "python",
   "nbconvert_exporter": "python",
   "pygments_lexer": "ipython3",
   "version": "3.13.4"
  }
 },
 "nbformat": 4,
 "nbformat_minor": 5
}
