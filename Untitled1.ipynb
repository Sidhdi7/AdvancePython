{
 "cells": [
  {
   "cell_type": "code",
   "execution_count": 2,
   "id": "5ef22272",
   "metadata": {},
   "outputs": [
    {
     "name": "stdout",
     "output_type": "stream",
     "text": [
      "hello'hi'hello\n"
     ]
    }
   ],
   "source": [
    "\n",
    "print(\"hello'hi'hello\")"
   ]
  },
  {
   "cell_type": "code",
   "execution_count": 3,
   "id": "313db3d8",
   "metadata": {},
   "outputs": [
    {
     "name": "stdout",
     "output_type": "stream",
     "text": [
      "Hi there \"birthday\"\n"
     ]
    }
   ],
   "source": [
    "\n",
    "print('''Hi there \"birthday\"''')"
   ]
  },
  {
   "cell_type": "code",
   "execution_count": 4,
   "id": "21b5915a",
   "metadata": {},
   "outputs": [
    {
     "name": "stdout",
     "output_type": "stream",
     "text": [
      "\"Technologia\"\n",
      " \"\"\"Triple inside single\"\"\"\n"
     ]
    }
   ],
   "source": [
    "\n",
    "print('\"Technologia\"')\n",
    "print(' \"\"\"Triple inside single\"\"\"')"
   ]
  },
  {
   "cell_type": "code",
   "execution_count": 5,
   "id": "e308d642",
   "metadata": {},
   "outputs": [
    {
     "name": "stdout",
     "output_type": "stream",
     "text": [
      " 'I said it' \n",
      " \"Double inside Triple\" \n"
     ]
    }
   ],
   "source": [
    "print(''' 'I said it' ''')\n",
    "print(\"\"\" \"Double inside Triple\" \"\"\")"
   ]
  },
  {
   "cell_type": "code",
   "execution_count": 6,
   "id": "6a80ebf0",
   "metadata": {},
   "outputs": [
    {
     "name": "stdout",
     "output_type": "stream",
     "text": [
      " '''Triple inside double''' \n"
     ]
    }
   ],
   "source": [
    "print(\" '''Triple inside double''' \")\n"
   ]
  },
  {
   "cell_type": "code",
   "execution_count": 7,
   "id": "5244a2d6",
   "metadata": {},
   "outputs": [
    {
     "name": "stdout",
     "output_type": "stream",
     "text": [
      "Hi there this is,SidhdiK\n"
     ]
    }
   ],
   "source": [
    "\n",
    "s = 'Sidhdi'\n",
    "k = 'K'\n",
    "print('Hi there this is,' f'{s}{k}')"
   ]
  },
  {
   "cell_type": "code",
   "execution_count": 15,
   "id": "9bcd40ee",
   "metadata": {},
   "outputs": [],
   "source": [
    "\n",
    "f = open(r\"C:\\Users\\Span220\\Desktop\\sk.txt\", 'wb')\n",
    "import jieba\n",
    "with open(r\"C:\\Users\\Span220\\Desktop\\sk.txt\",'r',encoding='utf8') as text:\n",
    "    data = text.read()"
   ]
  },
  {
   "cell_type": "code",
   "execution_count": 12,
   "id": "6237dfc2",
   "metadata": {},
   "outputs": [
    {
     "name": "stdout",
     "output_type": "stream",
     "text": [
      "Requirement already satisfied: requests in c:\\users\\span220\\anaconda3\\lib\\site-packages (2.31.0)\n",
      "Requirement already satisfied: charset-normalizer<4,>=2 in c:\\users\\span220\\anaconda3\\lib\\site-packages (from requests) (2.0.4)\n",
      "Requirement already satisfied: idna<4,>=2.5 in c:\\users\\span220\\anaconda3\\lib\\site-packages (from requests) (3.4)\n",
      "Requirement already satisfied: urllib3<3,>=1.21.1 in c:\\users\\span220\\anaconda3\\lib\\site-packages (from requests) (1.26.16)\n",
      "Requirement already satisfied: certifi>=2017.4.17 in c:\\users\\span220\\anaconda3\\lib\\site-packages (from requests) (2023.7.22)\n"
     ]
    }
   ],
   "source": [
    "\n",
    "!pip install requests"
   ]
  },
  {
   "cell_type": "code",
   "execution_count": 16,
   "id": "cb8963ce",
   "metadata": {},
   "outputs": [],
   "source": [
    "\n",
    "from urllib import request\n",
    "url = \"https://www.gutenberg.org/cache/epub/76503/pg76503.txt\"\n",
    "responce = request.urlopen(url)\n",
    "raw = responce.read().decode('utf8')"
   ]
  },
  {
   "cell_type": "code",
   "execution_count": 17,
   "id": "b83b06c7",
   "metadata": {},
   "outputs": [
    {
     "name": "stderr",
     "output_type": "stream",
     "text": [
      "[nltk_data] Downloading package punkt to\n",
      "[nltk_data]     C:\\Users\\Span220\\AppData\\Roaming\\nltk_data...\n",
      "[nltk_data]   Unzipping tokenizers\\punkt.zip.\n"
     ]
    },
    {
     "name": "stdout",
     "output_type": "stream",
     "text": [
      "<class 'str'>\n",
      "70826\n"
     ]
    }
   ],
   "source": [
    "\n",
    "\n",
    "import nltk\n",
    "nltk.download('punkt')\n",
    "from urllib import request\n",
    "from nltk.tokenize import word_tokenize\n",
    "\n",
    "url = \"https://www.gutenberg.org/cache/epub/76503/pg76503.txt\"\n",
    "resp = request.urlopen(url)\n",
    "raw = resp.read().decode('utf8')\n",
    "tokens = word_tokenize(raw)\n",
    "print(type(raw))\n",
    "print(len(tokens))"
   ]
  },
  {
   "cell_type": "code",
   "execution_count": 18,
   "id": "79e5a2ac",
   "metadata": {},
   "outputs": [
    {
     "name": "stdout",
     "output_type": "stream",
     "text": [
      "<class 'str'>\n"
     ]
    }
   ],
   "source": [
    "\n",
    "from urllib import request\n",
    "url = \"https://www.gutenberg.org/cache/epub/76503/pg76503.txt\"\n",
    "resp = request.urlopen(url)\n",
    "raw = resp.read().decode('utf8')\n",
    "from nltk.tokenize import word_tokenize\n",
    "tokens = word_tokenize(raw)\n",
    "print(type(raw))"
   ]
  },
  {
   "cell_type": "code",
   "execution_count": null,
   "id": "f6de345b",
   "metadata": {},
   "outputs": [],
   "source": []
  }
 ],
 "metadata": {
  "kernelspec": {
   "display_name": "Python 3 (ipykernel)",
   "language": "python",
   "name": "python3"
  },
  "language_info": {
   "codemirror_mode": {
    "name": "ipython",
    "version": 3
   },
   "file_extension": ".py",
   "mimetype": "text/x-python",
   "name": "python",
   "nbconvert_exporter": "python",
   "pygments_lexer": "ipython3",
   "version": "3.11.5"
  }
 },
 "nbformat": 4,
 "nbformat_minor": 5
}
