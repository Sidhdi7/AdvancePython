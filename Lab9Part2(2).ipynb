{
 "cells": [
  {
   "cell_type": "markdown",
   "id": "c43dc2ec-9563-439e-b0a1-e9315210db6c",
   "metadata": {},
   "source": [
    "Sidhdi Vijay K 22MIC0168"
   ]
  },
  {
   "cell_type": "markdown",
   "id": "9b9b3467-7779-46d9-9cde-85f2f492506c",
   "metadata": {},
   "source": [
    "Inheritance"
   ]
  },
  {
   "cell_type": "code",
   "execution_count": 11,
   "id": "f9ad24ca-56f0-435a-a996-10e7965ebc06",
   "metadata": {},
   "outputs": [
    {
     "name": "stdout",
     "output_type": "stream",
     "text": [
      "Hello from Parent\n"
     ]
    }
   ],
   "source": [
    "class Parent:\n",
    "    def greet(self):\n",
    "        print(\"Hello from Parent\")\n",
    "class Child(Parent):#Child inherits from parent\n",
    "    pass\n",
    "\n",
    "obj=Child()\n",
    "obj.greet()   #output Hello from Parent"
   ]
  },
  {
   "cell_type": "code",
   "execution_count": 16,
   "id": "b18d285b-009a-4ed4-808b-d74db2527bcb",
   "metadata": {},
   "outputs": [
    {
     "name": "stdout",
     "output_type": "stream",
     "text": [
      "Hello from Parent\n",
      "Hello from Child\n"
     ]
    }
   ],
   "source": [
    "class Parent1:\n",
    "    def greet(self):\n",
    "        print(\"Hello from Parent\")\n",
    "\n",
    "class Child1(Parent1):\n",
    "    def greet(self):\n",
    "        super().greet()\n",
    "        print(\"Hello from Child\")\n",
    "\n",
    "obj=Child1()\n",
    "obj.greet()    #Output: Hello from Parent\n",
    "                  #     Hello from Child\n",
    "        \n"
   ]
  },
  {
   "cell_type": "markdown",
   "id": "90270742-f9f4-4bd2-a660-d60fcda2461c",
   "metadata": {},
   "source": [
    "Multiple Inheritance"
   ]
  },
  {
   "cell_type": "code",
   "execution_count": 17,
   "id": "9954078c-2601-4993-ba31-1ab2ce16b18d",
   "metadata": {},
   "outputs": [
    {
     "name": "stdout",
     "output_type": "stream",
     "text": [
      "Method A\n",
      "Method_b\n"
     ]
    }
   ],
   "source": [
    "class A:\n",
    "    def method_a(self):\n",
    "        print(\"Method A\")\n",
    "\n",
    "class B:\n",
    "    def method_b(self):\n",
    "        print(\"Method_b\")\n",
    "\n",
    "class C(A,B):  #Inherits from both A and B\n",
    "    pass\n",
    "\n",
    "obj=C()\n",
    "obj.method_a()\n",
    "obj.method_b()\n",
    "    "
   ]
  },
  {
   "cell_type": "markdown",
   "id": "6355052f-54a6-4217-a335-522bda7ac240",
   "metadata": {},
   "source": [
    "Multilevel Inheritance"
   ]
  },
  {
   "cell_type": "code",
   "execution_count": 19,
   "id": "fbcfc73a-9415-4f12-b22f-387836af9cb9",
   "metadata": {},
   "outputs": [],
   "source": [
    "class Contact:\n",
    "    all_contacts=[]\n",
    "\n",
    "    def __init__(self,name,email):\n",
    "        self.name=name\n",
    "        self.email=email\n",
    "        Contact.all_contacts.append(self)\n",
    "        "
   ]
  },
  {
   "cell_type": "code",
   "execution_count": 21,
   "id": "d99d9058-9a7a-4359-93f0-0b57765b4b23",
   "metadata": {},
   "outputs": [],
   "source": [
    "class Supplier(Contact):\n",
    "    def order(self,order):\n",
    "        print(\"send\"\"{}order to {}\".format(order,self.name))"
   ]
  },
  {
   "cell_type": "code",
   "execution_count": 24,
   "id": "d5c0328e-2956-48d8-82ca-e59892076b70",
   "metadata": {},
   "outputs": [
    {
     "name": "stdout",
     "output_type": "stream",
     "text": [
      "Some Body somebody@example.net Sup Plier supplier@example.net\n"
     ]
    }
   ],
   "source": [
    "c=Contact(\"Some Body\",\"somebody@example.net\")\n",
    "s=Supplier(\"Sup Plier\",\"supplier@example.net\")\n",
    "print(c.name,c.email,s.name,s.email)"
   ]
  },
  {
   "cell_type": "code",
   "execution_count": 25,
   "id": "6de02f4b-eca9-4f3b-a5d7-889b74434194",
   "metadata": {},
   "outputs": [
    {
     "data": {
      "text/plain": [
       "[<__main__.Contact at 0x73de5cd5e510>,\n",
       " <__main__.Supplier at 0x73de5cd5e660>,\n",
       " <__main__.Contact at 0x73de5c2887d0>,\n",
       " <__main__.Supplier at 0x73de5c288b90>]"
      ]
     },
     "execution_count": 25,
     "metadata": {},
     "output_type": "execute_result"
    }
   ],
   "source": [
    "c.all_contacts"
   ]
  },
  {
   "cell_type": "code",
   "execution_count": 28,
   "id": "e70cd188-4ea9-4080-8e40-244ec4de4434",
   "metadata": {},
   "outputs": [],
   "source": [
    "#c.order(\"Ineed pliers\") will give errorr"
   ]
  },
  {
   "cell_type": "code",
   "execution_count": 30,
   "id": "e38f777c-9343-450e-b0ce-9d8c5141ace8",
   "metadata": {},
   "outputs": [],
   "source": [
    "class ContactList(list):\n",
    "    def search(self,name):\n",
    "        \"\"\"Return all contacts that contain the search value in their name\"\"\"\n",
    "        matching_contacts=[]\n",
    "        for contact in self:\n",
    "            if name in contact.name:\n",
    "                matching_contacts.append(contact)\n",
    "        return matching_contacts"
   ]
  },
  {
   "cell_type": "code",
   "execution_count": 32,
   "id": "bd408993-a337-4823-a35b-00a86cf252e0",
   "metadata": {},
   "outputs": [],
   "source": [
    "class  Contact:\n",
    "    all_contacts=ContactList()# Shared list of contacts\n",
    "\n",
    "    def __init__(self,name,email):\n",
    "        self.name=name\n",
    "        self.email=email\n",
    "        self.all_contacts.append(self)"
   ]
  },
  {
   "cell_type": "code",
   "execution_count": 34,
   "id": "9f0e7cb3-bfea-4627-bab0-e7597bd7760f",
   "metadata": {},
   "outputs": [
    {
     "data": {
      "text/plain": [
       "['John A', 'John B', 'John C']"
      ]
     },
     "execution_count": 34,
     "metadata": {},
     "output_type": "execute_result"
    }
   ],
   "source": [
    "c1=Contact(\"John A\",\"johna@example.net\")\n",
    "c1=Contact(\"John B\",\"johnb@example.net\")\n",
    "c1=Contact(\"John C\",\"johnc@example.net\")\n",
    "[c.name for c in Contact.all_contacts.search('John')]"
   ]
  },
  {
   "cell_type": "code",
   "execution_count": null,
   "id": "7d9d8d3a-195e-40d5-b2c4-bdfc5f3a111d",
   "metadata": {},
   "outputs": [],
   "source": [
    "#do file handling also"
   ]
  }
 ],
 "metadata": {
  "kernelspec": {
   "display_name": "Python 3 (ipykernel)",
   "language": "python",
   "name": "python3"
  },
  "language_info": {
   "codemirror_mode": {
    "name": "ipython",
    "version": 3
   },
   "file_extension": ".py",
   "mimetype": "text/x-python",
   "name": "python",
   "nbconvert_exporter": "python",
   "pygments_lexer": "ipython3",
   "version": "3.13.5"
  }
 },
 "nbformat": 4,
 "nbformat_minor": 5
}
