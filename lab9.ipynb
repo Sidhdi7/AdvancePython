{
 "cells": [
  {
   "cell_type": "code",
   "execution_count": 31,
   "id": "468efff4-df16-4148-8e71-e7c68aad0dc5",
   "metadata": {},
   "outputs": [],
   "source": [
    "class Emp1:\n",
    "    no_of_employees=0\n",
    "    raise_amount=1.04\n",
    "\n",
    "    def __init__(self,first,last,pay):\n",
    "        self.first=first\n",
    "        self.last=last\n",
    "        self.pay=pay\n",
    "\n",
    "        Emp1.no_of_employees+=1\n",
    "\n",
    "    def apply_raise(self):\n",
    "        self.pay=int(self.pay*Employee.raise_amount)\n",
    "        "
   ]
  },
  {
   "cell_type": "code",
   "execution_count": 32,
   "id": "b5205eda-6cd1-4a62-8e8b-98daeb1a1daa",
   "metadata": {},
   "outputs": [
    {
     "name": "stdout",
     "output_type": "stream",
     "text": [
      "<__main__.Emp1 object at 0x7367081a1160>\n"
     ]
    }
   ],
   "source": [
    "e1=Emp1(\"Donald\",\"Trump\",500000) #Creating an Instance\n",
    "print(e1)"
   ]
  },
  {
   "cell_type": "code",
   "execution_count": 33,
   "id": "d6a7dfbf-6c9f-4b7d-8921-224f8047e8c8",
   "metadata": {},
   "outputs": [
    {
     "name": "stdout",
     "output_type": "stream",
     "text": [
      "Donald\n",
      "Trump\n",
      "500000\n"
     ]
    }
   ],
   "source": [
    "#Getting firstname,lastname and pay\n",
    "print(e1.first)\n",
    "print(e1.last)\n",
    "print(e1.pay)"
   ]
  },
  {
   "cell_type": "code",
   "execution_count": 34,
   "id": "d1160f5d-5915-4aba-9bad-d9d4938d3834",
   "metadata": {},
   "outputs": [
    {
     "name": "stdout",
     "output_type": "stream",
     "text": [
      "1\n"
     ]
    }
   ],
   "source": [
    "print(Emp1.no_of_employees) #printing no of employees"
   ]
  },
  {
   "cell_type": "code",
   "execution_count": 35,
   "id": "2198aa98-ae8c-4754-b67d-9fd73d54d5b6",
   "metadata": {},
   "outputs": [],
   "source": [
    "e2=Emp1(\"Sidhdi\",\"Vijay\",1000000000) # Craeting Instance e2"
   ]
  },
  {
   "cell_type": "code",
   "execution_count": 36,
   "id": "5d73caf0-13c9-4a1c-b806-5489d62d95f6",
   "metadata": {},
   "outputs": [
    {
     "name": "stdout",
     "output_type": "stream",
     "text": [
      "<__main__.Emp1 object at 0x7366f8938410>\n"
     ]
    }
   ],
   "source": [
    "print(e2)\n"
   ]
  },
  {
   "cell_type": "code",
   "execution_count": 37,
   "id": "51b1259d-bef3-47bd-a16e-229d95d76782",
   "metadata": {},
   "outputs": [
    {
     "name": "stdout",
     "output_type": "stream",
     "text": [
      "{'__module__': '__main__', '__firstlineno__': 1, 'no_of_employees': 2, 'raise_amount': 1.04, '__init__': <function Emp1.__init__ at 0x7366f890c040>, 'apply_raise': <function Emp1.apply_raise at 0x7366f890c180>, '__static_attributes__': ('first', 'last', 'pay'), '__dict__': <attribute '__dict__' of 'Emp1' objects>, '__weakref__': <attribute '__weakref__' of 'Emp1' objects>, '__doc__': None}\n"
     ]
    }
   ],
   "source": [
    "print(Emp1.__dict__)  "
   ]
  },
  {
   "cell_type": "code",
   "execution_count": 38,
   "id": "aafcd9db-0ae8-4bf0-961c-1056e104edf9",
   "metadata": {},
   "outputs": [
    {
     "name": "stdout",
     "output_type": "stream",
     "text": [
      "1.04\n"
     ]
    }
   ],
   "source": [
    "print(e1.raise_amount)"
   ]
  },
  {
   "cell_type": "code",
   "execution_count": 39,
   "id": "d9254aec-3fa4-4b7b-a294-08ae817a4938",
   "metadata": {},
   "outputs": [
    {
     "name": "stdout",
     "output_type": "stream",
     "text": [
      "{'first': 'Donald', 'last': 'Trump', 'pay': 500000}\n"
     ]
    }
   ],
   "source": [
    "print(e1.__dict__)\n"
   ]
  },
  {
   "cell_type": "code",
   "execution_count": 40,
   "id": "cd907e4f-3247-4dbb-b97f-47083acd7a8a",
   "metadata": {},
   "outputs": [],
   "source": [
    "e1.raise_amount=1.05"
   ]
  },
  {
   "cell_type": "code",
   "execution_count": 41,
   "id": "3bc57289-8b77-4b1c-b76c-666c62df002f",
   "metadata": {},
   "outputs": [
    {
     "name": "stdout",
     "output_type": "stream",
     "text": [
      "{'__module__': '__main__', '__firstlineno__': 1, 'no_of_employees': 2, 'raise_amount': 1.04, '__init__': <function Emp1.__init__ at 0x7366f890c040>, 'apply_raise': <function Emp1.apply_raise at 0x7366f890c180>, '__static_attributes__': ('first', 'last', 'pay'), '__dict__': <attribute '__dict__' of 'Emp1' objects>, '__weakref__': <attribute '__weakref__' of 'Emp1' objects>, '__doc__': None}\n"
     ]
    }
   ],
   "source": [
    "print(Emp1.__dict__)"
   ]
  },
  {
   "cell_type": "code",
   "execution_count": 42,
   "id": "8678bedb-39bd-4d29-8b8a-0cfe714f49bf",
   "metadata": {},
   "outputs": [
    {
     "name": "stdout",
     "output_type": "stream",
     "text": [
      "1.04\n",
      "1.05\n"
     ]
    }
   ],
   "source": [
    "print(Emp1.raise_amount)\n",
    "print(e1.raise_amount)"
   ]
  },
  {
   "cell_type": "code",
   "execution_count": 43,
   "id": "1afec438-d3b7-4bd9-a8ec-c0c7dd2c3144",
   "metadata": {},
   "outputs": [],
   "source": [
    "e3=Emp1(\"Apoorva\",\"K\",10000000)\n"
   ]
  },
  {
   "cell_type": "code",
   "execution_count": 44,
   "id": "12937d7f-7770-4db4-8282-73cdd0b6249c",
   "metadata": {},
   "outputs": [
    {
     "name": "stdout",
     "output_type": "stream",
     "text": [
      "1.04\n"
     ]
    }
   ],
   "source": [
    "print(e3.raise_amount)\n"
   ]
  },
  {
   "cell_type": "code",
   "execution_count": 45,
   "id": "cfd92758-f4ba-4e2a-8d5a-f81d5317def6",
   "metadata": {},
   "outputs": [
    {
     "name": "stdout",
     "output_type": "stream",
     "text": [
      "3\n"
     ]
    }
   ],
   "source": [
    "print(Emp1.no_of_employees)"
   ]
  },
  {
   "cell_type": "code",
   "execution_count": null,
   "id": "26394988-1e20-4f41-8f02-a74788d156d1",
   "metadata": {},
   "outputs": [],
   "source": []
  },
  {
   "cell_type": "code",
   "execution_count": 46,
   "id": "3cab49ec-d32b-4a41-bc61-30b2da4d0162",
   "metadata": {},
   "outputs": [],
   "source": [
    "#Create parent and child class for employee and use super \n",
    "class Emp2:\n",
    "    no_of_employees = 0\n",
    "    raise_amount = 1.04\n",
    "\n",
    "    def __init__(self, first, last, pay):\n",
    "        self.first = first\n",
    "        self.last = last\n",
    "        self.pay = pay\n",
    "\n",
    "        Emp1.no_of_employees += 1\n",
    "\n",
    "    def apply_raise(self):\n",
    "        self.pay = int(self.pay * Emp2.raise_amount)\n",
    "\n",
    "    def full_name(self):\n",
    "        return f'{self.first} {self.last}'\n",
    "\n",
    "class Developer(Emp2):\n",
    "    def __init__(self, first, last, pay, prog_lang):\n",
    "        super().__init__(first, last, pay)\n",
    "        self.prog_lang = prog_lang\n",
    "\n",
    "# Create an instance of the child class\n",
    "dev_1 = Developer('John', 'Doe', 60000, 'Python')\n",
    "\n"
   ]
  },
  {
   "cell_type": "code",
   "execution_count": 47,
   "id": "2cd253b4-0a5e-4278-9db3-3041d8b2ef7c",
   "metadata": {},
   "outputs": [
    {
     "name": "stdout",
     "output_type": "stream",
     "text": [
      "Developer: John Doe\n",
      "Programming Language: Python\n",
      "Initial Pay: 60000\n",
      "Pay after raise: 62400\n",
      "Total employees: 4\n"
     ]
    }
   ],
   "source": [
    "# Accessing attributes and methods from both parent and child\n",
    "print(f'Developer: {dev_1.full_name()}')\n",
    "print(f'Programming Language: {dev_1.prog_lang}')\n",
    "print(f'Initial Pay: {dev_1.pay}')\n",
    "dev_1.apply_raise()\n",
    "print(f'Pay after raise: {dev_1.pay}')\n",
    "print(f'Total employees: {Emp1.no_of_employees}')"
   ]
  },
  {
   "cell_type": "code",
   "execution_count": null,
   "id": "b94cc11e-3c76-418f-a26b-f552ff05fe01",
   "metadata": {},
   "outputs": [],
   "source": []
  }
 ],
 "metadata": {
  "kernelspec": {
   "display_name": "Python 3 (ipykernel)",
   "language": "python",
   "name": "python3"
  },
  "language_info": {
   "codemirror_mode": {
    "name": "ipython",
    "version": 3
   },
   "file_extension": ".py",
   "mimetype": "text/x-python",
   "name": "python",
   "nbconvert_exporter": "python",
   "pygments_lexer": "ipython3",
   "version": "3.13.5"
  }
 },
 "nbformat": 4,
 "nbformat_minor": 5
}
