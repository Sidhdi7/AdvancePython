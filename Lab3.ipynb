{
 "cells": [
  {
   "cell_type": "markdown",
   "id": "25087445",
   "metadata": {},
   "source": [
    "22MIC0168 Sidhdi Vijay K"
   ]
  },
  {
   "cell_type": "code",
   "execution_count": 1,
   "id": "becbe683",
   "metadata": {},
   "outputs": [
    {
     "name": "stdout",
     "output_type": "stream",
     "text": [
      "['apple', 'banana', 'orange', 'watermelon']\n"
     ]
    }
   ],
   "source": [
    "fruits = [\"apple\",\"banana\",\"orange\",\"watermelon\"]\n",
    "print(fruits)"
   ]
  },
  {
   "cell_type": "code",
   "execution_count": 2,
   "id": "0d68df2c",
   "metadata": {},
   "outputs": [
    {
     "name": "stdout",
     "output_type": "stream",
     "text": [
      "4\n"
     ]
    }
   ],
   "source": [
    "print(len(fruits))"
   ]
  },
  {
   "cell_type": "code",
   "execution_count": 3,
   "id": "d26969f8",
   "metadata": {},
   "outputs": [
    {
     "name": "stdout",
     "output_type": "stream",
     "text": [
      "<class 'list'>\n"
     ]
    }
   ],
   "source": [
    "print(type(fruits))"
   ]
  },
  {
   "cell_type": "code",
   "execution_count": 6,
   "id": "566e4d96",
   "metadata": {},
   "outputs": [
    {
     "name": "stdout",
     "output_type": "stream",
     "text": [
      "['mango', 'mango', 'apple', 'banana', 'orange', 'watermelon']\n"
     ]
    }
   ],
   "source": [
    "fruits.insert(0, \"mango\")\n",
    "print(fruits)"
   ]
  },
  {
   "cell_type": "code",
   "execution_count": 7,
   "id": "e5f0c43e",
   "metadata": {},
   "outputs": [
    {
     "name": "stdout",
     "output_type": "stream",
     "text": [
      "['mango', 'mango', 'apple', 'banana', 'orange', 'watermelon', 'guvava', 'lychee', 'pineapple']\n"
     ]
    }
   ],
   "source": [
    "f2 = [\"guvava\",\"lychee\",\"pineapple\"]\n",
    "fruits.extend(f2)\n",
    "print(fruits)"
   ]
  },
  {
   "cell_type": "code",
   "execution_count": 8,
   "id": "bafafe64",
   "metadata": {},
   "outputs": [
    {
     "name": "stdout",
     "output_type": "stream",
     "text": [
      "['mango', 'mango', 'apple', 'banana', 'orange', 'watermelon', 'guvava', 'lychee']\n"
     ]
    }
   ],
   "source": [
    "fruits.pop()\n",
    "print(fruits)"
   ]
  },
  {
   "cell_type": "code",
   "execution_count": 9,
   "id": "42512f8c",
   "metadata": {},
   "outputs": [
    {
     "name": "stdout",
     "output_type": "stream",
     "text": [
      "['mango', 'mango', 'apple', 'banana', 'orange', 'watermelon', 'lychee']\n"
     ]
    }
   ],
   "source": [
    "fruits.remove(\"guvava\")\n",
    "print(fruits)"
   ]
  },
  {
   "cell_type": "code",
   "execution_count": 10,
   "id": "b76ab93d",
   "metadata": {},
   "outputs": [
    {
     "name": "stdout",
     "output_type": "stream",
     "text": [
      "['mango', 'mango', 'apple', 'banana', 'orange', 'watermelon']\n"
     ]
    }
   ],
   "source": [
    "fruits.pop(6)\n",
    "print(fruits)"
   ]
  },
  {
   "cell_type": "code",
   "execution_count": 11,
   "id": "a4600d3b",
   "metadata": {},
   "outputs": [
    {
     "name": "stdout",
     "output_type": "stream",
     "text": [
      "['mango', 'apple', 'banana', 'orange', 'watermelon']\n"
     ]
    }
   ],
   "source": [
    "del fruits[0]\n",
    "print(fruits)"
   ]
  },
  {
   "cell_type": "code",
   "execution_count": 12,
   "id": "6955333d",
   "metadata": {},
   "outputs": [
    {
     "name": "stdout",
     "output_type": "stream",
     "text": [
      "[]\n"
     ]
    }
   ],
   "source": [
    "fruits.clear()\n",
    "print(fruits)"
   ]
  },
  {
   "cell_type": "code",
   "execution_count": 13,
   "id": "43089c80",
   "metadata": {},
   "outputs": [
    {
     "name": "stdout",
     "output_type": "stream",
     "text": [
      "{'Mango': ['sweet', 'yellow', 'summer'], 'Apple': ['sweet', 'red', 'winter'], 'Banana': ['sweet', 'yellow', 'all-season'], 'Orange': ['citrus', 'orange', 'winter'], 'Grapes': ['sweet', 'green', 'summer'], 'Watermelon': ['sweet', 'red', 'summer'], 'Strawberry': ['sweet', 'red', 'spring']}\n"
     ]
    }
   ],
   "source": [
    "fruits = {\n",
    "    \"Mango\": [\"sweet\", \"yellow\", \"summer\"],\n",
    "    \"Apple\": [\"sweet\", \"red\", \"winter\"],\n",
    "    \"Banana\": [\"sweet\", \"yellow\", \"all-season\"],\n",
    "    \"Orange\": [\"citrus\", \"orange\", \"winter\"],\n",
    "    \"Grapes\": [\"sweet\", \"green\", \"summer\"],\n",
    "    \"Watermelon\": [\"sweet\", \"red\", \"summer\"],\n",
    "    \"Strawberry\": [\"sweet\", \"red\", \"spring\"]\n",
    "}\n",
    "print(fruits)"
   ]
  },
  {
   "cell_type": "code",
   "execution_count": 22,
   "id": "b66f6c2e",
   "metadata": {},
   "outputs": [
    {
     "name": "stdout",
     "output_type": "stream",
     "text": [
      "Enter your fruit preferences (comma separated): sweet,summer\n",
      "Entered user preferences are: ['sweet', 'summer']\n",
      "Enter fruits you've already eaten (comma separated): mango,banana\n",
      "Entered fruits already eaten are: ['Mango', 'Banana']\n",
      "\n",
      "Recommended fruits for you based on your preferences:\n",
      "- Apple\n",
      "- Grapes\n",
      "- Watermelon\n",
      "- Strawberry\n"
     ]
    }
   ],
   "source": [
    "user_pref = input(\"Enter your fruit preferences (comma separated): \").lower().split(',')\n",
    "user_pref = [pref.strip() for pref in user_pref]\n",
    "print(f'Entered user preferences are: {user_pref}')\n",
    "visited_inp = input(\"Enter fruits you've already eaten (comma separated): \").title().split(',')\n",
    "visited = [fruit.strip() for fruit in visited_inp]\n",
    "print(f'Entered fruits already eaten are: {visited}')\n",
    "\n",
    "recommendations = []\n",
    "for fruit, tags in fruits.items():\n",
    "    if fruit not in visited:\n",
    "        if any(pref in tags for pref in user_pref):\n",
    "            recommendations.append(fruit)\n",
    "if recommendations:\n",
    "    print(\"\\nRecommended fruits for you based on your preferences:\")\n",
    "    for fruit in recommendations:\n",
    "        print(\"-\", fruit)\n",
    "else:\n",
    "    print(\"\\nSorry, no matching recommendations found based on your preferences.\")"
   ]
  }
 ],
 "metadata": {
  "kernelspec": {
   "display_name": "Python 3 (ipykernel)",
   "language": "python",
   "name": "python3"
  },
  "language_info": {
   "codemirror_mode": {
    "name": "ipython",
    "version": 3
   },
   "file_extension": ".py",
   "mimetype": "text/x-python",
   "name": "python",
   "nbconvert_exporter": "python",
   "pygments_lexer": "ipython3",
   "version": "3.11.5"
  }
 },
 "nbformat": 4,
 "nbformat_minor": 5
}
